{
 "cells": [
  {
   "cell_type": "code",
   "execution_count": 1,
   "metadata": {
    "collapsed": true
   },
   "outputs": [],
   "source": [
    "import json\n",
    "\n",
    "conv_file = './data/treccastweb/2020/2020_manual_evaluation_topics_v1.0.json'\n",
    "with open(conv_file, 'r') as f:\n",
    "    conv_data = json.load(f)\n",
    "\n",
    "#depe_file = './data/treccastweb/2020/automatic_evaluation_topics_annotated_v1.1.json'\n",
    "#with open(depe_file, 'r') as f:\n",
    "#    depe_data = json.load(f)"
   ]
  },
  {
   "cell_type": "code",
   "execution_count": 2,
   "outputs": [],
   "source": [
    "from numpy import random\n",
    "\n",
    "\n",
    "def get_entity(utterance, entities):\n",
    "    for entity in entities:\n",
    "        if entity in utterance:\n",
    "            return entity\n",
    "    raise LookupError\n",
    "\n",
    "\n",
    "def sample_conv(utterances, clear_utterances, entities, p=0.8):\n",
    "    res = []\n",
    "    clear_conv = []\n",
    "    us = random.permutation(len(clear_utterances))\n",
    "    c_p = 1.0\n",
    "    for u in us:\n",
    "        if random.rand() < 1 - c_p:\n",
    "            break\n",
    "        c_p *= p\n",
    "        if not res:\n",
    "            res.append(clear_utterances[u])\n",
    "        else:\n",
    "            e_1 = get_entity(clear_conv[-1], entities)\n",
    "            e_2 = get_entity(clear_utterances[u], entities)\n",
    "            if e_1 == e_2:\n",
    "                res.append(utterances[u])\n",
    "            else:\n",
    "                res.append(clear_utterances[u])\n",
    "        clear_conv.append(clear_utterances[u])\n",
    "    return res"
   ],
   "metadata": {
    "collapsed": false,
    "pycharm": {
     "name": "#%%\n"
    }
   }
  },
  {
   "cell_type": "code",
   "execution_count": 3,
   "outputs": [],
   "source": [
    "def extract_utterances(conv_data, new_raw_utterances, topic):\n",
    "    utterances = []\n",
    "    clear_utterances = []\n",
    "    for turn in conv_data[topic]['turn']:\n",
    "        num = turn['number']\n",
    "        utterances.append(turn['raw_utterance'])\n",
    "        if num in new_raw_utterances:\n",
    "            utterances[num - 1] = new_raw_utterances[num]\n",
    "\n",
    "        clear_utterances.append(turn['manual_rewritten_utterance'])\n",
    "\n",
    "    return utterances, clear_utterances"
   ],
   "metadata": {
    "collapsed": false,
    "pycharm": {
     "name": "#%%\n"
    }
   }
  },
  {
   "cell_type": "code",
   "execution_count": 4,
   "outputs": [],
   "source": [
    "def at_least_one_entity(entities, clear_utterances):\n",
    "    print('entities', entities)\n",
    "    for utterance in clear_utterances:\n",
    "        print(utterance, end='\\n\\t')\n",
    "        entity = get_entity(utterance, entities)\n",
    "        print(entity)"
   ],
   "metadata": {
    "collapsed": false,
    "pycharm": {
     "name": "#%%\n"
    }
   }
  },
  {
   "cell_type": "code",
   "execution_count": 5,
   "outputs": [
    {
     "data": {
      "text/plain": "['How do you know when your garage door opener is going bad?',\n 'Now it stopped working. Why?',\n 'How could smart garage door openers be hacked?',\n \"What's important for me to know about their safety?\"]"
     },
     "execution_count": 5,
     "metadata": {},
     "output_type": "execute_result"
    }
   ],
   "source": [
    "topic = 0\n",
    "new_raw_utterances = {1: \"How do you know when it is going bad?\", 6: \"What does it do?\"}\n",
    "entities = ['smart garage door opener', 'garage door opener']\n",
    "\n",
    "utterances, clear_utterances = extract_utterances(conv_data, new_raw_utterances, topic)\n",
    "#at_least_one_entity(entities, clear_utterances)\n",
    "\n",
    "sample_conv(utterances, clear_utterances, entities)"
   ],
   "metadata": {
    "collapsed": false,
    "pycharm": {
     "name": "#%%\n"
    }
   }
  },
  {
   "cell_type": "code",
   "execution_count": 6,
   "outputs": [
    {
     "data": {
      "text/plain": "['What has happened to bee habitat?',\n 'What can be done to stop bees from dying?']"
     },
     "execution_count": 6,
     "metadata": {},
     "output_type": "execute_result"
    }
   ],
   "source": [
    "topic = 2\n",
    "new_raw_utterances = {1: \"What are some interesting facts about them?\"}\n",
    "entities = ['habitat', 'bee', 'honey', 'colony collapse disorder']\n",
    "\n",
    "utterances, clear_utterances = extract_utterances(conv_data, new_raw_utterances, topic)\n",
    "#at_least_one_entity(entities, clear_utterances)\n",
    "\n",
    "sample_conv(utterances, clear_utterances, entities)"
   ],
   "metadata": {
    "collapsed": false,
    "pycharm": {
     "name": "#%%\n"
    }
   }
  },
  {
   "cell_type": "code",
   "execution_count": 7,
   "outputs": [],
   "source": [
    "#dependency = {}\n",
    "\n",
    "#for turn in depe_data[0]['turn']:\n",
    "#    num = turn['number']\n",
    "#    if 'query_turn_dependence' in turn:\n",
    "#        print(turn['query_turn_dependence'])\n",
    "#    #print(turn['raw_utterance'])"
   ],
   "metadata": {
    "collapsed": false,
    "pycharm": {
     "name": "#%%\n"
    }
   }
  },
  {
   "cell_type": "code",
   "execution_count": 7,
   "outputs": [],
   "source": [],
   "metadata": {
    "collapsed": false,
    "pycharm": {
     "name": "#%%\n"
    }
   }
  }
 ],
 "metadata": {
  "kernelspec": {
   "display_name": "Python 3",
   "language": "python",
   "name": "python3"
  },
  "language_info": {
   "codemirror_mode": {
    "name": "ipython",
    "version": 2
   },
   "file_extension": ".py",
   "mimetype": "text/x-python",
   "name": "python",
   "nbconvert_exporter": "python",
   "pygments_lexer": "ipython2",
   "version": "2.7.6"
  }
 },
 "nbformat": 4,
 "nbformat_minor": 0
}